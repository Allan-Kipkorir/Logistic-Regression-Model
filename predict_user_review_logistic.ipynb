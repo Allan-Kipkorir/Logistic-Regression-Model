{
 "cells": [
  {
   "cell_type": "markdown",
   "id": "ae4d8ffa",
   "metadata": {},
   "source": [
    "# Logistic Regression to Predict If a User Will Leave a Review"
   ]
  },
  {
   "cell_type": "markdown",
   "id": "909b48ef",
   "metadata": {},
   "source": [
    "## 1. Load the Dataset"
   ]
  },
  {
   "cell_type": "code",
   "execution_count": null,
   "id": "bfb6ae2a",
   "metadata": {},
   "outputs": [],
   "source": [
    "\n",
    "import pandas as pd\n",
    "\n",
    "# Load the dataset\n",
    "file_path = 'Amazon Customer Behavior Survey.csv'\n",
    "data = pd.read_csv(file_path)\n",
    "\n",
    "# Display the first few rows\n",
    "data.head()\n",
    "    "
   ]
  },
  {
   "cell_type": "markdown",
   "id": "ae2a0cf8",
   "metadata": {},
   "source": [
    "## 2. Data Preprocessing"
   ]
  },
  {
   "cell_type": "code",
   "execution_count": null,
   "id": "9c00ca63",
   "metadata": {},
   "outputs": [],
   "source": [
    "\n",
    "# Check for missing values\n",
    "print(data.isnull().sum())\n",
    "\n",
    "# Display columns to identify relevant features\n",
    "print(data.columns)\n",
    "    "
   ]
  },
  {
   "cell_type": "markdown",
   "id": "c3290bb5",
   "metadata": {},
   "source": [
    "### Selecting Features and Target"
   ]
  },
  {
   "cell_type": "code",
   "execution_count": null,
   "id": "1ecb4b42",
   "metadata": {},
   "outputs": [],
   "source": [
    "\n",
    "# Assume 'left_review' is the target column indicating if a user left a review (1 for Yes, 0 for No)\n",
    "# Replace 'left_review' with the actual column name that represents review behavior in the dataset\n",
    "\n",
    "# Select relevant features (modify this list based on the dataset's actual columns)\n",
    "features = ['Age', 'Purchase Amount', 'Number of Purchases', 'Satisfaction Score']\n",
    "\n",
    "# Target variable\n",
    "target = 'left_review'\n",
    "\n",
    "# Drop rows with missing values in selected columns\n",
    "data = data.dropna(subset=features + [target])\n",
    "\n",
    "# Features and target\n",
    "X = data[features]\n",
    "y = data[target]\n",
    "    "
   ]
  },
  {
   "cell_type": "markdown",
   "id": "b3108c69",
   "metadata": {},
   "source": [
    "## 3. Train-Test Split"
   ]
  },
  {
   "cell_type": "code",
   "execution_count": null,
   "id": "041a60a0",
   "metadata": {},
   "outputs": [],
   "source": [
    "\n",
    "from sklearn.model_selection import train_test_split\n",
    "\n",
    "# Split the data into training and testing sets (80% train, 20% test)\n",
    "X_train, X_test, y_train, y_test = train_test_split(X, y, test_size=0.2, random_state=42)\n",
    "    "
   ]
  },
  {
   "cell_type": "markdown",
   "id": "054b9be1",
   "metadata": {},
   "source": [
    "## 4. Train Logistic Regression Model"
   ]
  },
  {
   "cell_type": "code",
   "execution_count": null,
   "id": "134c48e2",
   "metadata": {},
   "outputs": [],
   "source": [
    "\n",
    "from sklearn.linear_model import LogisticRegression\n",
    "\n",
    "# Initialize and train the model\n",
    "model = LogisticRegression(max_iter=1000)\n",
    "model.fit(X_train, y_train)\n",
    "    "
   ]
  },
  {
   "cell_type": "markdown",
   "id": "498d3803",
   "metadata": {},
   "source": [
    "## 5. Model Evaluation"
   ]
  },
  {
   "cell_type": "code",
   "execution_count": null,
   "id": "8cca9490",
   "metadata": {},
   "outputs": [],
   "source": [
    "\n",
    "from sklearn.metrics import accuracy_score, classification_report\n",
    "\n",
    "# Predict on the test set\n",
    "y_pred = model.predict(X_test)\n",
    "\n",
    "# Evaluate the model\n",
    "print(f\"Accuracy: {accuracy_score(y_test, y_pred):.2f}\")\n",
    "print(\"Classification Report:\")\n",
    "print(classification_report(y_test, y_pred))\n",
    "    "
   ]
  },
  {
   "cell_type": "markdown",
   "id": "737c22bd",
   "metadata": {},
   "source": [
    "## 6. Feature Importance"
   ]
  },
  {
   "cell_type": "code",
   "execution_count": null,
   "id": "5205316c",
   "metadata": {},
   "outputs": [],
   "source": [
    "\n",
    "# Display the coefficients of the model\n",
    "feature_importance = pd.DataFrame({\n",
    "    'Feature': X.columns,\n",
    "    'Coefficient': model.coef_[0]\n",
    "}).sort_values(by='Coefficient', ascending=False)\n",
    "\n",
    "print(feature_importance)\n",
    "    "
   ]
  },
  {
   "cell_type": "markdown",
   "id": "0b4da4b8",
   "metadata": {},
   "source": [
    "## Summary"
   ]
  },
  {
   "cell_type": "markdown",
   "id": "739efca4",
   "metadata": {},
   "source": [
    "This notebook trained a logistic regression model to predict whether a user will leave a review based on features like age, purchase amount, number of purchases, and satisfaction score. The model's performance and feature importance were evaluated to provide insights."
   ]
  }
 ],
 "metadata": {},
 "nbformat": 4,
 "nbformat_minor": 5
}
